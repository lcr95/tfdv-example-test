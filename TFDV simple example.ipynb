{
 "cells": [
  {
   "cell_type": "code",
   "execution_count": 1,
   "metadata": {},
   "outputs": [
    {
     "name": "stdout",
     "output_type": "stream",
     "text": [
      "TFDV version: 0.30.0\n"
     ]
    }
   ],
   "source": [
    "import tensorflow_data_validation as tfdv\n",
    "print('TFDV version: {}'.format(tfdv.version.__version__))"
   ]
  },
  {
   "cell_type": "markdown",
   "metadata": {},
   "source": [
    "# Generate Statistic"
   ]
  },
  {
   "cell_type": "code",
   "execution_count": 3,
   "metadata": {},
   "outputs": [
    {
     "data": {
      "text/html": [
       "<iframe id='facets-iframe' width=\"100%\" height=\"500px\"></iframe>\n",
       "        <script>\n",
       "        facets_iframe = document.getElementById('facets-iframe');\n",
       "        facets_html = '<script src=\"https://cdnjs.cloudflare.com/ajax/libs/webcomponentsjs/1.3.3/webcomponents-lite.js\"><\\/script><link rel=\"import\" href=\"https://raw.githubusercontent.com/PAIR-code/facets/master/facets-dist/facets-jupyter.html\"><facets-overview proto-input=\"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\"></facets-overview>';\n",
       "        facets_iframe.srcdoc = facets_html;\n",
       "         facets_iframe.id = \"\";\n",
       "         setTimeout(() => {\n",
       "           facets_iframe.setAttribute('height', facets_iframe.contentWindow.document.body.offsetHeight + 'px')\n",
       "         }, 1500)\n",
       "         </script>"
      ],
      "text/plain": [
       "<IPython.core.display.HTML object>"
      ]
     },
     "metadata": {},
     "output_type": "display_data"
    }
   ],
   "source": [
    "# Generate and visualize statistic of a dataset \n",
    "\n",
    "my_train_stats = tfdv.generate_statistics_from_csv(data_location=\"train.csv\")\n",
    "tfdv.visualize_statistics(my_train_stats)"
   ]
  },
  {
   "cell_type": "code",
   "execution_count": 23,
   "metadata": {},
   "outputs": [],
   "source": [
    "# Export statistic into file\n",
    "\n",
    "tfdv.write_stats_text(my_train_stats, \"my_train_stats.pbtext\")\n",
    "# f = open(\"my_train_stats.pbtext\", \"r\")\n",
    "# print(f.read())\n",
    "# f.close()"
   ]
  },
  {
   "cell_type": "markdown",
   "metadata": {},
   "source": [
    " # Generate Schema\n",
    " "
   ]
  },
  {
   "cell_type": "code",
   "execution_count": 7,
   "metadata": {},
   "outputs": [
    {
     "data": {
      "text/html": [
       "<div>\n",
       "<style scoped>\n",
       "    .dataframe tbody tr th:only-of-type {\n",
       "        vertical-align: middle;\n",
       "    }\n",
       "\n",
       "    .dataframe tbody tr th {\n",
       "        vertical-align: top;\n",
       "    }\n",
       "\n",
       "    .dataframe thead th {\n",
       "        text-align: right;\n",
       "    }\n",
       "</style>\n",
       "<table border=\"1\" class=\"dataframe\">\n",
       "  <thead>\n",
       "    <tr style=\"text-align: right;\">\n",
       "      <th></th>\n",
       "      <th>Type</th>\n",
       "      <th>Presence</th>\n",
       "      <th>Valency</th>\n",
       "      <th>Domain</th>\n",
       "    </tr>\n",
       "    <tr>\n",
       "      <th>Feature name</th>\n",
       "      <th></th>\n",
       "      <th></th>\n",
       "      <th></th>\n",
       "      <th></th>\n",
       "    </tr>\n",
       "  </thead>\n",
       "  <tbody>\n",
       "    <tr>\n",
       "      <th>'race'</th>\n",
       "      <td>STRING</td>\n",
       "      <td>required</td>\n",
       "      <td></td>\n",
       "      <td>'race'</td>\n",
       "    </tr>\n",
       "    <tr>\n",
       "      <th>'risk_level'</th>\n",
       "      <td>STRING</td>\n",
       "      <td>required</td>\n",
       "      <td></td>\n",
       "      <td>'risk_level'</td>\n",
       "    </tr>\n",
       "    <tr>\n",
       "      <th>'id'</th>\n",
       "      <td>INT</td>\n",
       "      <td>required</td>\n",
       "      <td></td>\n",
       "      <td>-</td>\n",
       "    </tr>\n",
       "    <tr>\n",
       "      <th>'age'</th>\n",
       "      <td>INT</td>\n",
       "      <td>required</td>\n",
       "      <td></td>\n",
       "      <td>-</td>\n",
       "    </tr>\n",
       "    <tr>\n",
       "      <th>'salary'</th>\n",
       "      <td>INT</td>\n",
       "      <td>required</td>\n",
       "      <td></td>\n",
       "      <td>-</td>\n",
       "    </tr>\n",
       "  </tbody>\n",
       "</table>\n",
       "</div>"
      ],
      "text/plain": [
       "                Type  Presence Valency        Domain\n",
       "Feature name                                        \n",
       "'race'        STRING  required          'race'      \n",
       "'risk_level'  STRING  required          'risk_level'\n",
       "'id'          INT     required          -           \n",
       "'age'         INT     required          -           \n",
       "'salary'      INT     required          -           "
      ]
     },
     "metadata": {},
     "output_type": "display_data"
    },
    {
     "data": {
      "text/html": [
       "<div>\n",
       "<style scoped>\n",
       "    .dataframe tbody tr th:only-of-type {\n",
       "        vertical-align: middle;\n",
       "    }\n",
       "\n",
       "    .dataframe tbody tr th {\n",
       "        vertical-align: top;\n",
       "    }\n",
       "\n",
       "    .dataframe thead th {\n",
       "        text-align: right;\n",
       "    }\n",
       "</style>\n",
       "<table border=\"1\" class=\"dataframe\">\n",
       "  <thead>\n",
       "    <tr style=\"text-align: right;\">\n",
       "      <th></th>\n",
       "      <th>Values</th>\n",
       "    </tr>\n",
       "    <tr>\n",
       "      <th>Domain</th>\n",
       "      <th></th>\n",
       "    </tr>\n",
       "  </thead>\n",
       "  <tbody>\n",
       "    <tr>\n",
       "      <th>'race'</th>\n",
       "      <td>'Chinese', 'Indian', 'Malay', 'Others'</td>\n",
       "    </tr>\n",
       "    <tr>\n",
       "      <th>'risk_level'</th>\n",
       "      <td>'high', 'low', 'medium'</td>\n",
       "    </tr>\n",
       "  </tbody>\n",
       "</table>\n",
       "</div>"
      ],
      "text/plain": [
       "                                              Values\n",
       "Domain                                              \n",
       "'race'        'Chinese', 'Indian', 'Malay', 'Others'\n",
       "'risk_level'  'high', 'low', 'medium'               "
      ]
     },
     "metadata": {},
     "output_type": "display_data"
    }
   ],
   "source": [
    "# Generate Schema\n",
    "\n",
    "import warnings\n",
    "warnings.filterwarnings('ignore')\n",
    "\n",
    "my_schema = tfdv.infer_schema(statistics=my_train_stats)\n",
    "tfdv.display_schema(schema=my_schema)"
   ]
  },
  {
   "cell_type": "code",
   "execution_count": 22,
   "metadata": {
    "scrolled": true
   },
   "outputs": [],
   "source": [
    "tfdv.write_schema_text(my_schema, \"train_schema.pbtext\")\n",
    "\n",
    "# p = open(\"train_schema.pbtext\", \"r\")\n",
    "# print(p.read())\n",
    "# p.close()"
   ]
  },
  {
   "cell_type": "markdown",
   "metadata": {},
   "source": [
    "# Check Anomalies "
   ]
  },
  {
   "cell_type": "code",
   "execution_count": 10,
   "metadata": {},
   "outputs": [
    {
     "data": {
      "text/html": [
       "<div>\n",
       "<style scoped>\n",
       "    .dataframe tbody tr th:only-of-type {\n",
       "        vertical-align: middle;\n",
       "    }\n",
       "\n",
       "    .dataframe tbody tr th {\n",
       "        vertical-align: top;\n",
       "    }\n",
       "\n",
       "    .dataframe thead th {\n",
       "        text-align: right;\n",
       "    }\n",
       "</style>\n",
       "<table border=\"1\" class=\"dataframe\">\n",
       "  <thead>\n",
       "    <tr style=\"text-align: right;\">\n",
       "      <th></th>\n",
       "      <th>Anomaly short description</th>\n",
       "      <th>Anomaly long description</th>\n",
       "    </tr>\n",
       "    <tr>\n",
       "      <th>Feature name</th>\n",
       "      <th></th>\n",
       "      <th></th>\n",
       "    </tr>\n",
       "  </thead>\n",
       "  <tbody>\n",
       "    <tr>\n",
       "      <th>'risk_level'</th>\n",
       "      <td>Column dropped</td>\n",
       "      <td>Column is completely missing</td>\n",
       "    </tr>\n",
       "  </tbody>\n",
       "</table>\n",
       "</div>"
      ],
      "text/plain": [
       "             Anomaly short description      Anomaly long description\n",
       "Feature name                                                        \n",
       "'risk_level'  Column dropped            Column is completely missing"
      ]
     },
     "metadata": {},
     "output_type": "display_data"
    }
   ],
   "source": [
    "# Validate anomalies \n",
    "\n",
    "# Import new dataset\n",
    "my_train_missing_stats = tfdv.generate_statistics_from_csv(data_location=\"train-missing-field.csv\")\n",
    "\n",
    "# Validate\n",
    "my_anomalies = tfdv.validate_statistics(statistics=my_train_missing_stats, schema=my_schema)\n",
    "tfdv.display_anomalies(my_anomalies)"
   ]
  },
  {
   "cell_type": "code",
   "execution_count": 11,
   "metadata": {},
   "outputs": [
    {
     "data": {
      "text/html": [
       "<h4 style=\"color:green;\">No anomalies found.</h4>"
      ],
      "text/plain": [
       "<IPython.core.display.HTML object>"
      ]
     },
     "metadata": {},
     "output_type": "display_data"
    }
   ],
   "source": [
    "#Ignore validation error \n",
    "\n",
    "# All features are by default in both TRAINING and SERVING environments.\n",
    "my_schema.default_environment.append('TRAINING')\n",
    "my_schema.default_environment.append('SERVING')\n",
    "\n",
    "# Specify that 'risk_lvel' feature is not in SERVING environment.\n",
    "tfdv.get_feature(my_schema, 'risk_level').not_in_environment.append('SERVING')\n",
    "\n",
    "serving_anomalies_with_env = tfdv.validate_statistics(statistics=my_train_missing_stats, \n",
    "                                                      schema=my_schema,\n",
    "                                                      environment='SERVING')\n",
    "\n",
    "tfdv.display_anomalies(serving_anomalies_with_env)"
   ]
  },
  {
   "cell_type": "markdown",
   "metadata": {},
   "source": [
    "# Detect Data Skew"
   ]
  },
  {
   "cell_type": "code",
   "execution_count": 13,
   "metadata": {},
   "outputs": [
    {
     "data": {
      "text/html": [
       "<div>\n",
       "<style scoped>\n",
       "    .dataframe tbody tr th:only-of-type {\n",
       "        vertical-align: middle;\n",
       "    }\n",
       "\n",
       "    .dataframe tbody tr th {\n",
       "        vertical-align: top;\n",
       "    }\n",
       "\n",
       "    .dataframe thead th {\n",
       "        text-align: right;\n",
       "    }\n",
       "</style>\n",
       "<table border=\"1\" class=\"dataframe\">\n",
       "  <thead>\n",
       "    <tr style=\"text-align: right;\">\n",
       "      <th></th>\n",
       "      <th>Anomaly short description</th>\n",
       "      <th>Anomaly long description</th>\n",
       "    </tr>\n",
       "    <tr>\n",
       "      <th>Feature name</th>\n",
       "      <th></th>\n",
       "      <th></th>\n",
       "    </tr>\n",
       "  </thead>\n",
       "  <tbody>\n",
       "    <tr>\n",
       "      <th>'race'</th>\n",
       "      <td>High Linfty distance between training and serving</td>\n",
       "      <td>The Linfty distance between training and serving is 0.75 (up to six significant digits), above the threshold 0.1. The feature value with maximum difference is: Chinese</td>\n",
       "    </tr>\n",
       "  </tbody>\n",
       "</table>\n",
       "</div>"
      ],
      "text/plain": [
       "                                      Anomaly short description  \\\n",
       "Feature name                                                      \n",
       "'race'        High Linfty distance between training and serving   \n",
       "\n",
       "                                                                                                                                                             Anomaly long description  \n",
       "Feature name                                                                                                                                                                           \n",
       "'race'        The Linfty distance between training and serving is 0.75 (up to six significant digits), above the threshold 0.1. The feature value with maximum difference is: Chinese  "
      ]
     },
     "metadata": {},
     "output_type": "display_data"
    }
   ],
   "source": [
    "# Detect Data Skew\n",
    "\n",
    "my_test_stats = tfdv.generate_statistics_from_csv(data_location=\"test.csv\")\n",
    "\n",
    "\n",
    "race=tfdv.get_feature(my_schema, 'race')\n",
    "race.skew_comparator.infinity_norm.threshold = 0.1\n",
    "\n",
    "my_skew_anomalies = tfdv.validate_statistics(my_train_stats, my_schema,\n",
    "                                          serving_statistics=my_test_stats)\n",
    "\n",
    "tfdv.display_anomalies(my_skew_anomalies)"
   ]
  },
  {
   "cell_type": "code",
   "execution_count": 15,
   "metadata": {},
   "outputs": [
    {
     "data": {
      "text/html": [
       "<iframe id='facets-iframe' width=\"100%\" height=\"500px\"></iframe>\n",
       "        <script>\n",
       "        facets_iframe = document.getElementById('facets-iframe');\n",
       "        facets_html = '<script src=\"https://cdnjs.cloudflare.com/ajax/libs/webcomponentsjs/1.3.3/webcomponents-lite.js\"><\\/script><link rel=\"import\" href=\"https://raw.githubusercontent.com/PAIR-code/facets/master/facets-dist/facets-jupyter.html\"><facets-overview proto-input=\"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\"></facets-overview>';\n",
       "        facets_iframe.srcdoc = facets_html;\n",
       "         facets_iframe.id = \"\";\n",
       "         setTimeout(() => {\n",
       "           facets_iframe.setAttribute('height', facets_iframe.contentWindow.document.body.offsetHeight + 'px')\n",
       "         }, 1500)\n",
       "         </script>"
      ],
      "text/plain": [
       "<IPython.core.display.HTML object>"
      ]
     },
     "metadata": {},
     "output_type": "display_data"
    }
   ],
   "source": [
    "tfdv.visualize_statistics(lhs_statistics=my_train_stats, rhs_statistics=my_test_stats,\n",
    "                          lhs_name='Train_Dataset', rhs_name='Test_Dataset')"
   ]
  },
  {
   "cell_type": "markdown",
   "metadata": {},
   "source": [
    "# Detect Data Drift"
   ]
  },
  {
   "cell_type": "code",
   "execution_count": 14,
   "metadata": {},
   "outputs": [
    {
     "data": {
      "text/html": [
       "<div>\n",
       "<style scoped>\n",
       "    .dataframe tbody tr th:only-of-type {\n",
       "        vertical-align: middle;\n",
       "    }\n",
       "\n",
       "    .dataframe tbody tr th {\n",
       "        vertical-align: top;\n",
       "    }\n",
       "\n",
       "    .dataframe thead th {\n",
       "        text-align: right;\n",
       "    }\n",
       "</style>\n",
       "<table border=\"1\" class=\"dataframe\">\n",
       "  <thead>\n",
       "    <tr style=\"text-align: right;\">\n",
       "      <th></th>\n",
       "      <th>Anomaly short description</th>\n",
       "      <th>Anomaly long description</th>\n",
       "    </tr>\n",
       "    <tr>\n",
       "      <th>Feature name</th>\n",
       "      <th></th>\n",
       "      <th></th>\n",
       "    </tr>\n",
       "  </thead>\n",
       "  <tbody>\n",
       "    <tr>\n",
       "      <th>'risk_level'</th>\n",
       "      <td>High Linfty distance between current and previous</td>\n",
       "      <td>The Linfty distance between current and previous is 0.35 (up to six significant digits), above the threshold 0.1. The feature value with maximum difference is: low</td>\n",
       "    </tr>\n",
       "  </tbody>\n",
       "</table>\n",
       "</div>"
      ],
      "text/plain": [
       "                                      Anomaly short description  \\\n",
       "Feature name                                                      \n",
       "'risk_level'  High Linfty distance between current and previous   \n",
       "\n",
       "                                                                                                                                                         Anomaly long description  \n",
       "Feature name                                                                                                                                                                       \n",
       "'risk_level'  The Linfty distance between current and previous is 0.35 (up to six significant digits), above the threshold 0.1. The feature value with maximum difference is: low  "
      ]
     },
     "metadata": {},
     "output_type": "display_data"
    }
   ],
   "source": [
    "# Import new dataset\n",
    "my_train2_stats = tfdv.generate_statistics_from_csv(data_location=\"train2.csv\")\n",
    "\n",
    "# Create new schema to prevent messing up with data skew example\n",
    "my_schema2 = tfdv.infer_schema(statistics=my_train_stats)\n",
    "\n",
    "risk_level=tfdv.get_feature(my_schema2, 'risk_level')\n",
    "risk_level.drift_comparator.infinity_norm.threshold = 0.1\n",
    "\n",
    "my_drift_anomalies = tfdv.validate_statistics(my_train_stats, my_schema2,\n",
    "                                             previous_statistics=my_train2_stats,\n",
    "                                             serving_statistics=my_test_stats)\n",
    "\n",
    "tfdv.display_anomalies(my_drift_anomalies)"
   ]
  },
  {
   "cell_type": "code",
   "execution_count": 17,
   "metadata": {},
   "outputs": [
    {
     "data": {
      "text/html": [
       "<iframe id='facets-iframe' width=\"100%\" height=\"500px\"></iframe>\n",
       "        <script>\n",
       "        facets_iframe = document.getElementById('facets-iframe');\n",
       "        facets_html = '<script src=\"https://cdnjs.cloudflare.com/ajax/libs/webcomponentsjs/1.3.3/webcomponents-lite.js\"><\\/script><link rel=\"import\" href=\"https://raw.githubusercontent.com/PAIR-code/facets/master/facets-dist/facets-jupyter.html\"><facets-overview proto-input=\"CuYZCg1UcmFpbl9EYXRhc2V0EBQa8QMQAiLkAwq0AggUGAEgAS0AAIA/MqQCGhsJAAAAAAAA8D8RAAAAAAAA8D8hAAAAAAAAAEAaGwkAAAAAAADwPxEAAAAAAADwPyEAAAAAAAAAQBobCQAAAAAAAPA/EQAAAAAAAPA/IQAAAAAAAABAGhsJAAAAAAAA8D8RAAAAAAAA8D8hAAAAAAAAAEAaGwkAAAAAAADwPxEAAAAAAADwPyEAAAAAAAAAQBobCQAAAAAAAPA/EQAAAAAAAPA/IQAAAAAAAABAGhsJAAAAAAAA8D8RAAAAAAAA8D8hAAAAAAAAAEAaGwkAAAAAAADwPxEAAAAAAADwPyEAAAAAAAAAQBobCQAAAAAAAPA/EQAAAAAAAPA/IQAAAAAAAABAGhsJAAAAAAAA8D8RAAAAAAAA8D8hAAAAAAAAAEAgAUAUEAQaERIGT3RoZXJzGQAAAAAAABRAGhASBU1hbGF5GQAAAAAAABRAGhESBkluZGlhbhkAAAAAAAAUQBoSEgdDaGluZXNlGQAAAAAAABRAJQAAwEAqWAoRIgZPdGhlcnMpAAAAAAAAFEAKFAgBEAEiBU1hbGF5KQAAAAAAABRAChUIAhACIgZJbmRpYW4pAAAAAAAAFEAKFggDEAMiB0NoaW5lc2UpAAAAAAAAFEBCBgoEcmFjZRrDAxACIrADCrQCCBQYASABLQAAgD8ypAIaGwkAAAAAAADwPxEAAAAAAADwPyEAAAAAAAAAQBobCQAAAAAAAPA/EQAAAAAAAPA/IQAAAAAAAABAGhsJAAAAAAAA8D8RAAAAAAAA8D8hAAAAAAAAAEAaGwkAAAAAAADwPxEAAAAAAADwPyEAAAAAAAAAQBobCQAAAAAAAPA/EQAAAAAAAPA/IQAAAAAAAABAGhsJAAAAAAAA8D8RAAAAAAAA8D8hAAAAAAAAAEAaGwkAAAAAAADwPxEAAAAAAADwPyEAAAAAAAAAQBobCQAAAAAAAPA/EQAAAAAAAPA/IQAAAAAAAABAGhsJAAAAAAAA8D8RAAAAAAAA8D8hAAAAAAAAAEAaGwkAAAAAAADwPxEAAAAAAADwPyEAAAAAAAAAQCABQBQQAxoPEgRoaWdoGQAAAAAAACBAGhESBm1lZGl1bRkAAAAAAAAcQBoOEgNsb3cZAAAAAAAAFEAlZmaOQCo8Cg8iBGhpZ2gpAAAAAAAAIEAKFQgBEAEiBm1lZGl1bSkAAAAAAAAcQAoSCAIQAiIDbG93KQAAAAAAABRAQgwKCnJpc2tfbGV2ZWwaqgUaoQUKtAIIFBgBIAEtAACAPzKkAhobCQAAAAAAAPA/EQAAAAAAAPA/IQAAAAAAAABAGhsJAAAAAAAA8D8RAAAAAAAA8D8hAAAAAAAAAEAaGwkAAAAAAADwPxEAAAAAAADwPyEAAAAAAAAAQBobCQAAAAAAAPA/EQAAAAAAAPA/IQAAAAAAAABAGhsJAAAAAAAA8D8RAAAAAAAA8D8hAAAAAAAAAEAaGwkAAAAAAADwPxEAAAAAAADwPyEAAAAAAAAAQBobCQAAAAAAAPA/EQAAAAAAAPA/IQAAAAAAAABAGhsJAAAAAAAA8D8RAAAAAAAA8D8hAAAAAAAAAEAaGwkAAAAAAADwPxEAAAAAAADwPyEAAAAAAAAAQBobCQAAAAAAAPA/EQAAAAAAAPA/IQAAAAAAAABAIAFAFBEAAAAAAADwPykAAAAAAADwPzEAAAAAAADwPzkAAAAAAADwP0IdGhsJAAAAAAAA8D8RAAAAAAAA8D8hAAAAAAAANEBCpAIaGwkAAAAAAADwPxEAAAAAAADwPyEAAAAAAAAAQBobCQAAAAAAAPA/EQAAAAAAAPA/IQAAAAAAAABAGhsJAAAAAAAA8D8RAAAAAAAA8D8hAAAAAAAAAEAaGwkAAAAAAADwPxEAAAAAAADwPyEAAAAAAAAAQBobCQAAAAAAAPA/EQAAAAAAAPA/IQAAAAAAAABAGhsJAAAAAAAA8D8RAAAAAAAA8D8hAAAAAAAAAEAaGwkAAAAAAADwPxEAAAAAAADwPyEAAAAAAAAAQBobCQAAAAAAAPA/EQAAAAAAAPA/IQAAAAAAAABAGhsJAAAAAAAA8D8RAAAAAAAA8D8hAAAAAAAAAEAaGwkAAAAAAADwPxEAAAAAAADwPyEAAAAAAAAAQCABQgQKAmlkGroHGrAHCrQCCBQYASABLQAAgD8ypAIaGwkAAAAAAADwPxEAAAAAAADwPyEAAAAAAAAAQBobCQAAAAAAAPA/EQAAAAAAAPA/IQAAAAAAAABAGhsJAAAAAAAA8D8RAAAAAAAA8D8hAAAAAAAAAEAaGwkAAAAAAADwPxEAAAAAAADwPyEAAAAAAAAAQBobCQAAAAAAAPA/EQAAAAAAAPA/IQAAAAAAAABAGhsJAAAAAAAA8D8RAAAAAAAA8D8hAAAAAAAAAEAaGwkAAAAAAADwPxEAAAAAAADwPyEAAAAAAAAAQBobCQAAAAAAAPA/EQAAAAAAAPA/IQAAAAAAAABAGhsJAAAAAAAA8D8RAAAAAAAA8D8hAAAAAAAAAEAaGwkAAAAAAADwPxEAAAAAAADwPyEAAAAAAAAAQCABQBQRAAAAAAAAQEAZd3CblqjEKUApAAAAAAAAJEAxAAAAAAAAPkA5AAAAAAAASUBCogIaGwkAAAAAAAAkQBEAAAAAAAAsQCECK4cW2c7/PxobCQAAAAAAACxAEQAAAAAAADJAIfyp8dJNYoA/GhsJAAAAAAAAMkARAAAAAAAANkAhwMqhRbbzE0AaGwkAAAAAAAA2QBEAAAAAAAA6QCH8qfHSTWKAPxobCQAAAAAAADpAEQAAAAAAAD5AIfyp8dJNYoA/GhsJAAAAAAAAPkARAAAAAAAAQUAhgZVDi2znD0AaGwkAAAAAAABBQBEAAAAAAABDQCH8qfHSTWKAPxobCQAAAAAAAENAEQAAAAAAAEVAIcDKoUW28xNAGhsJAAAAAAAARUARAAAAAAAAR0Ah/Knx0k1igD8aGwkAAAAAAABHQBEAAAAAAABJQCHWeOkmMQgQQEKkAhobCQAAAAAAACRAEQAAAAAAADRAIQAAAAAAAABAGhsJAAAAAAAANEARAAAAAAAANEAhAAAAAAAAAEAaGwkAAAAAAAA0QBEAAAAAAAA0QCEAAAAAAAAAQBobCQAAAAAAADRAEQAAAAAAAD5AIQAAAAAAAABAGhsJAAAAAAAAPkARAAAAAAAAPkAhAAAAAAAAAEAaGwkAAAAAAAA+QBEAAAAAAABEQCEAAAAAAAAAQBobCQAAAAAAAERAEQAAAAAAAERAIQAAAAAAAABAGhsJAAAAAAAAREARAAAAAAAASUAhAAAAAAAAAEAaGwkAAAAAAABJQBEAAAAAAABJQCEAAAAAAAAAQBobCQAAAAAAAElAEQAAAAAAAElAIQAAAAAAAABAIAFCBQoDYWdlGq4FGqEFCrQCCBQYASABLQAAgD8ypAIaGwkAAAAAAADwPxEAAAAAAADwPyEAAAAAAAAAQBobCQAAAAAAAPA/EQAAAAAAAPA/IQAAAAAAAABAGhsJAAAAAAAA8D8RAAAAAAAA8D8hAAAAAAAAAEAaGwkAAAAAAADwPxEAAAAAAADwPyEAAAAAAAAAQBobCQAAAAAAAPA/EQAAAAAAAPA/IQAAAAAAAABAGhsJAAAAAAAA8D8RAAAAAAAA8D8hAAAAAAAAAEAaGwkAAAAAAADwPxEAAAAAAADwPyEAAAAAAAAAQBobCQAAAAAAAPA/EQAAAAAAAPA/IQAAAAAAAABAGhsJAAAAAAAA8D8RAAAAAAAA8D8hAAAAAAAAAEAaGwkAAAAAAADwPxEAAAAAAADwPyEAAAAAAAAAQCABQBQRAAAAAABq6EApAAAAAABq6EAxAAAAAABq6EA5AAAAAABq6EBCHRobCQAAAAAAauhAEQAAAAAAauhAIQAAAAAAADRAQqQCGhsJAAAAAABq6EARAAAAAABq6EAhAAAAAAAAAEAaGwkAAAAAAGroQBEAAAAAAGroQCEAAAAAAAAAQBobCQAAAAAAauhAEQAAAAAAauhAIQAAAAAAAABAGhsJAAAAAABq6EARAAAAAABq6EAhAAAAAAAAAEAaGwkAAAAAAGroQBEAAAAAAGroQCEAAAAAAAAAQBobCQAAAAAAauhAEQAAAAAAauhAIQAAAAAAAABAGhsJAAAAAABq6EARAAAAAABq6EAhAAAAAAAAAEAaGwkAAAAAAGroQBEAAAAAAGroQCEAAAAAAAAAQBobCQAAAAAAauhAEQAAAAAAauhAIQAAAAAAAABAGhsJAAAAAABq6EARAAAAAABq6EAhAAAAAAAAAEAgAUIICgZzYWxhcnkK5xkKDlRyYWluMl9EYXRhc2V0EBQaqgUaoQUKtAIIFBgBIAEtAACAPzKkAhobCQAAAAAAAPA/EQAAAAAAAPA/IQAAAAAAAABAGhsJAAAAAAAA8D8RAAAAAAAA8D8hAAAAAAAAAEAaGwkAAAAAAADwPxEAAAAAAADwPyEAAAAAAAAAQBobCQAAAAAAAPA/EQAAAAAAAPA/IQAAAAAAAABAGhsJAAAAAAAA8D8RAAAAAAAA8D8hAAAAAAAAAEAaGwkAAAAAAADwPxEAAAAAAADwPyEAAAAAAAAAQBobCQAAAAAAAPA/EQAAAAAAAPA/IQAAAAAAAABAGhsJAAAAAAAA8D8RAAAAAAAA8D8hAAAAAAAAAEAaGwkAAAAAAADwPxEAAAAAAADwPyEAAAAAAAAAQBobCQAAAAAAAPA/EQAAAAAAAPA/IQAAAAAAAABAIAFAFBEAAAAAAADwPykAAAAAAADwPzEAAAAAAADwPzkAAAAAAADwP0IdGhsJAAAAAAAA8D8RAAAAAAAA8D8hAAAAAAAANEBCpAIaGwkAAAAAAADwPxEAAAAAAADwPyEAAAAAAAAAQBobCQAAAAAAAPA/EQAAAAAAAPA/IQAAAAAAAABAGhsJAAAAAAAA8D8RAAAAAAAA8D8hAAAAAAAAAEAaGwkAAAAAAADwPxEAAAAAAADwPyEAAAAAAAAAQBobCQAAAAAAAPA/EQAAAAAAAPA/IQAAAAAAAABAGhsJAAAAAAAA8D8RAAAAAAAA8D8hAAAAAAAAAEAaGwkAAAAAAADwPxEAAAAAAADwPyEAAAAAAAAAQBobCQAAAAAAAPA/EQAAAAAAAPA/IQAAAAAAAABAGhsJAAAAAAAA8D8RAAAAAAAA8D8hAAAAAAAAAEAaGwkAAAAAAADwPxEAAAAAAADwPyEAAAAAAAAAQCABQgQKAmlkGroHGrAHCrQCCBQYASABLQAAgD8ypAIaGwkAAAAAAADwPxEAAAAAAADwPyEAAAAAAAAAQBobCQAAAAAAAPA/EQAAAAAAAPA/IQAAAAAAAABAGhsJAAAAAAAA8D8RAAAAAAAA8D8hAAAAAAAAAEAaGwkAAAAAAADwPxEAAAAAAADwPyEAAAAAAAAAQBobCQAAAAAAAPA/EQAAAAAAAPA/IQAAAAAAAABAGhsJAAAAAAAA8D8RAAAAAAAA8D8hAAAAAAAAAEAaGwkAAAAAAADwPxEAAAAAAADwPyEAAAAAAAAAQBobCQAAAAAAAPA/EQAAAAAAAPA/IQAAAAAAAABAGhsJAAAAAAAA8D8RAAAAAAAA8D8hAAAAAAAAAEAaGwkAAAAAAADwPxEAAAAAAADwPyEAAAAAAAAAQCABQBQRAAAAAAAAQEAZd3CblqjEKUApAAAAAAAAJEAxAAAAAAAAPkA5AAAAAAAASUBCogIaGwkAAAAAAAAkQBEAAAAAAAAsQCECK4cW2c7/PxobCQAAAAAAACxAEQAAAAAAADJAIfyp8dJNYoA/GhsJAAAAAAAAMkARAAAAAAAANkAhwMqhRbbzE0AaGwkAAAAAAAA2QBEAAAAAAAA6QCH8qfHSTWKAPxobCQAAAAAAADpAEQAAAAAAAD5AIfyp8dJNYoA/GhsJAAAAAAAAPkARAAAAAAAAQUAhgZVDi2znD0AaGwkAAAAAAABBQBEAAAAAAABDQCH8qfHSTWKAPxobCQAAAAAAAENAEQAAAAAAAEVAIcDKoUW28xNAGhsJAAAAAAAARUARAAAAAAAAR0Ah/Knx0k1igD8aGwkAAAAAAABHQBEAAAAAAABJQCHWeOkmMQgQQEKkAhobCQAAAAAAACRAEQAAAAAAADRAIQAAAAAAAABAGhsJAAAAAAAANEARAAAAAAAANEAhAAAAAAAAAEAaGwkAAAAAAAA0QBEAAAAAAAA0QCEAAAAAAAAAQBobCQAAAAAAADRAEQAAAAAAAD5AIQAAAAAAAABAGhsJAAAAAAAAPkARAAAAAAAAPkAhAAAAAAAAAEAaGwkAAAAAAAA+QBEAAAAAAABEQCEAAAAAAAAAQBobCQAAAAAAAERAEQAAAAAAAERAIQAAAAAAAABAGhsJAAAAAAAAREARAAAAAAAASUAhAAAAAAAAAEAaGwkAAAAAAABJQBEAAAAAAABJQCEAAAAAAAAAQBobCQAAAAAAAElAEQAAAAAAAElAIQAAAAAAAABAIAFCBQoDYWdlGq4FGqEFCrQCCBQYASABLQAAgD8ypAIaGwkAAAAAAADwPxEAAAAAAADwPyEAAAAAAAAAQBobCQAAAAAAAPA/EQAAAAAAAPA/IQAAAAAAAABAGhsJAAAAAAAA8D8RAAAAAAAA8D8hAAAAAAAAAEAaGwkAAAAAAADwPxEAAAAAAADwPyEAAAAAAAAAQBobCQAAAAAAAPA/EQAAAAAAAPA/IQAAAAAAAABAGhsJAAAAAAAA8D8RAAAAAAAA8D8hAAAAAAAAAEAaGwkAAAAAAADwPxEAAAAAAADwPyEAAAAAAAAAQBobCQAAAAAAAPA/EQAAAAAAAPA/IQAAAAAAAABAGhsJAAAAAAAA8D8RAAAAAAAA8D8hAAAAAAAAAEAaGwkAAAAAAADwPxEAAAAAAADwPyEAAAAAAAAAQCABQBQRAAAAAABq6EApAAAAAABq6EAxAAAAAABq6EA5AAAAAABq6EBCHRobCQAAAAAAauhAEQAAAAAAauhAIQAAAAAAADRAQqQCGhsJAAAAAABq6EARAAAAAABq6EAhAAAAAAAAAEAaGwkAAAAAAGroQBEAAAAAAGroQCEAAAAAAAAAQBobCQAAAAAAauhAEQAAAAAAauhAIQAAAAAAAABAGhsJAAAAAABq6EARAAAAAABq6EAhAAAAAAAAAEAaGwkAAAAAAGroQBEAAAAAAGroQCEAAAAAAAAAQBobCQAAAAAAauhAEQAAAAAAauhAIQAAAAAAAABAGhsJAAAAAABq6EARAAAAAABq6EAhAAAAAAAAAEAaGwkAAAAAAGroQBEAAAAAAGroQCEAAAAAAAAAQBobCQAAAAAAauhAEQAAAAAAauhAIQAAAAAAAABAGhsJAAAAAABq6EARAAAAAABq6EAhAAAAAAAAAEAgAUIICgZzYWxhcnka8QMQAiLkAwq0AggUGAEgAS0AAIA/MqQCGhsJAAAAAAAA8D8RAAAAAAAA8D8hAAAAAAAAAEAaGwkAAAAAAADwPxEAAAAAAADwPyEAAAAAAAAAQBobCQAAAAAAAPA/EQAAAAAAAPA/IQAAAAAAAABAGhsJAAAAAAAA8D8RAAAAAAAA8D8hAAAAAAAAAEAaGwkAAAAAAADwPxEAAAAAAADwPyEAAAAAAAAAQBobCQAAAAAAAPA/EQAAAAAAAPA/IQAAAAAAAABAGhsJAAAAAAAA8D8RAAAAAAAA8D8hAAAAAAAAAEAaGwkAAAAAAADwPxEAAAAAAADwPyEAAAAAAAAAQBobCQAAAAAAAPA/EQAAAAAAAPA/IQAAAAAAAABAGhsJAAAAAAAA8D8RAAAAAAAA8D8hAAAAAAAAAEAgAUAUEAQaERIGT3RoZXJzGQAAAAAAABRAGhASBU1hbGF5GQAAAAAAABRAGhESBkluZGlhbhkAAAAAAAAUQBoSEgdDaGluZXNlGQAAAAAAABRAJQAAwEAqWAoRIgZPdGhlcnMpAAAAAAAAFEAKFAgBEAEiBU1hbGF5KQAAAAAAABRAChUIAhACIgZJbmRpYW4pAAAAAAAAFEAKFggDEAMiB0NoaW5lc2UpAAAAAAAAFEBCBgoEcmFjZRrDAxACIrADCrQCCBQYASABLQAAgD8ypAIaGwkAAAAAAADwPxEAAAAAAADwPyEAAAAAAAAAQBobCQAAAAAAAPA/EQAAAAAAAPA/IQAAAAAAAABAGhsJAAAAAAAA8D8RAAAAAAAA8D8hAAAAAAAAAEAaGwkAAAAAAADwPxEAAAAAAADwPyEAAAAAAAAAQBobCQAAAAAAAPA/EQAAAAAAAPA/IQAAAAAAAABAGhsJAAAAAAAA8D8RAAAAAAAA8D8hAAAAAAAAAEAaGwkAAAAAAADwPxEAAAAAAADwPyEAAAAAAAAAQBobCQAAAAAAAPA/EQAAAAAAAPA/IQAAAAAAAABAGhsJAAAAAAAA8D8RAAAAAAAA8D8hAAAAAAAAAEAaGwkAAAAAAADwPxEAAAAAAADwPyEAAAAAAAAAQCABQBQQAxoOEgNsb3cZAAAAAAAAKEAaERIGbWVkaXVtGQAAAAAAABRAGg8SBGhpZ2gZAAAAAAAACEAlmpl5QCo8Cg4iA2xvdykAAAAAAAAoQAoVCAEQASIGbWVkaXVtKQAAAAAAABRAChMIAhACIgRoaWdoKQAAAAAAAAhAQgwKCnJpc2tfbGV2ZWw=\"></facets-overview>';\n",
       "        facets_iframe.srcdoc = facets_html;\n",
       "         facets_iframe.id = \"\";\n",
       "         setTimeout(() => {\n",
       "           facets_iframe.setAttribute('height', facets_iframe.contentWindow.document.body.offsetHeight + 'px')\n",
       "         }, 1500)\n",
       "         </script>"
      ],
      "text/plain": [
       "<IPython.core.display.HTML object>"
      ]
     },
     "metadata": {},
     "output_type": "display_data"
    }
   ],
   "source": [
    "tfdv.visualize_statistics(lhs_statistics=my_train_stats, rhs_statistics=my_train2_stats,\n",
    "                          lhs_name='Train_Dataset', rhs_name='Train2_Dataset')"
   ]
  },
  {
   "cell_type": "code",
   "execution_count": 18,
   "metadata": {},
   "outputs": [
    {
     "data": {
      "text/html": [
       "<iframe id='facets-iframe' width=\"100%\" height=\"500px\"></iframe>\n",
       "        <script>\n",
       "        facets_iframe = document.getElementById('facets-iframe');\n",
       "        facets_html = '<script src=\"https://cdnjs.cloudflare.com/ajax/libs/webcomponentsjs/1.3.3/webcomponents-lite.js\"><\\/script><link rel=\"import\" href=\"https://raw.githubusercontent.com/PAIR-code/facets/master/facets-dist/facets-jupyter.html\"><facets-overview proto-input=\"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\"></facets-overview>';\n",
       "        facets_iframe.srcdoc = facets_html;\n",
       "         facets_iframe.id = \"\";\n",
       "         setTimeout(() => {\n",
       "           facets_iframe.setAttribute('height', facets_iframe.contentWindow.document.body.offsetHeight + 'px')\n",
       "         }, 1500)\n",
       "         </script>"
      ],
      "text/plain": [
       "<IPython.core.display.HTML object>"
      ]
     },
     "metadata": {},
     "output_type": "display_data"
    }
   ],
   "source": [
    "tfdv.visualize_statistics(lhs_statistics=my_train2_stats, rhs_statistics=my_test_stats,\n",
    "                          lhs_name='Train2_Dataset', rhs_name='Test_Dataset')"
   ]
  },
  {
   "cell_type": "code",
   "execution_count": null,
   "metadata": {},
   "outputs": [],
   "source": []
  }
 ],
 "metadata": {
  "kernelspec": {
   "display_name": "Python 3",
   "language": "python",
   "name": "python3"
  },
  "language_info": {
   "codemirror_mode": {
    "name": "ipython",
    "version": 3
   },
   "file_extension": ".py",
   "mimetype": "text/x-python",
   "name": "python",
   "nbconvert_exporter": "python",
   "pygments_lexer": "ipython3",
   "version": "3.7.6"
  }
 },
 "nbformat": 4,
 "nbformat_minor": 4
}
